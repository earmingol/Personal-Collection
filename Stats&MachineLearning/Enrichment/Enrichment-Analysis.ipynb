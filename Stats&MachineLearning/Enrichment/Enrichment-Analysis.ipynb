{
 "cells": [
  {
   "cell_type": "code",
   "execution_count": 1,
   "metadata": {},
   "outputs": [],
   "source": [
    "import scipy.stats as st"
   ]
  },
  {
   "cell_type": "markdown",
   "metadata": {},
   "source": [
    "### Example about Diamond cards (13 cards) in a standard deck (52 cards).\n",
    "\n",
    "http://mengnote.blogspot.com/2012/12/calculate-correct-hypergeometric-p.html"
   ]
  },
  {
   "cell_type": "code",
   "execution_count": 2,
   "metadata": {},
   "outputs": [],
   "source": [
    "# Sample data\n",
    "sample_size = 5\n",
    "class_in_sample = 1\n",
    "nonclass_in_sample = sample_size - class_in_sample"
   ]
  },
  {
   "cell_type": "code",
   "execution_count": 3,
   "metadata": {},
   "outputs": [],
   "source": [
    "# Deck data\n",
    "class_in_population = 13\n",
    "population_size = 52\n",
    "nonclass_in_population = population_size - class_in_population"
   ]
  },
  {
   "cell_type": "code",
   "execution_count": 4,
   "metadata": {},
   "outputs": [],
   "source": [
    "# Remaining cards in deck after sampling\n",
    "rem_class = class_in_population - class_in_sample\n",
    "rem_nonclass = nonclass_in_population - nonclass_in_sample"
   ]
  },
  {
   "cell_type": "markdown",
   "metadata": {},
   "source": [
    "**P-value from Hypergeometric distribution**"
   ]
  },
  {
   "cell_type": "code",
   "execution_count": 5,
   "metadata": {},
   "outputs": [],
   "source": [
    "depletion_hyp_p_val = st.hypergeom.cdf(class_in_sample, population_size, class_in_population, sample_size)"
   ]
  },
  {
   "cell_type": "code",
   "execution_count": 6,
   "metadata": {},
   "outputs": [],
   "source": [
    "enrichment_hyp_p_val = 1.0 - st.hypergeom.cdf(class_in_sample - 1.0, population_size, class_in_population, sample_size)"
   ]
  },
  {
   "cell_type": "code",
   "execution_count": 7,
   "metadata": {},
   "outputs": [
    {
     "name": "stdout",
     "output_type": "stream",
     "text": [
      "Under-representation (depletion) p-value: 0.6329531812725094\n",
      "Over-representation (enrichment) p-value: 0.7784663865546216\n"
     ]
    }
   ],
   "source": [
    "print('Under-representation (depletion) p-value: {}'.format(depletion_hyp_p_val))\n",
    "print('Over-representation (enrichment) p-value: {}'.format(enrichment_hyp_p_val))"
   ]
  },
  {
   "cell_type": "markdown",
   "metadata": {},
   "source": [
    "**P-value from Fisher Exact Test**"
   ]
  },
  {
   "cell_type": "code",
   "execution_count": 8,
   "metadata": {},
   "outputs": [],
   "source": [
    "depletion_odds, depletion_fisher_p_val = st.fisher_exact([[class_in_sample, rem_class],\n",
    "                                                          [nonclass_in_sample, rem_nonclass]],\n",
    "                                                         alternative='less')"
   ]
  },
  {
   "cell_type": "code",
   "execution_count": 9,
   "metadata": {},
   "outputs": [],
   "source": [
    "enrichment_odds, enrichment_fisher_p_val = st.fisher_exact([[class_in_sample, rem_class],\n",
    "                                                            [nonclass_in_sample, rem_nonclass]],\n",
    "                                                           alternative='greater')"
   ]
  },
  {
   "cell_type": "code",
   "execution_count": 10,
   "metadata": {},
   "outputs": [
    {
     "name": "stdout",
     "output_type": "stream",
     "text": [
      "Under-representation (depletion) p-value: 0.6329531812725094\n",
      "Over-representation (enrichment) p-value: 0.778466386554622\n"
     ]
    }
   ],
   "source": [
    "print('Under-representation (depletion) p-value: {}'.format(depletion_fisher_p_val))\n",
    "print('Over-representation (enrichment) p-value: {}'.format(enrichment_fisher_p_val))"
   ]
  },
  {
   "cell_type": "code",
   "execution_count": null,
   "metadata": {},
   "outputs": [],
   "source": []
  }
 ],
 "metadata": {
  "kernelspec": {
   "display_name": "Python 3",
   "language": "python",
   "name": "python3"
  },
  "language_info": {
   "codemirror_mode": {
    "name": "ipython",
    "version": 3
   },
   "file_extension": ".py",
   "mimetype": "text/x-python",
   "name": "python",
   "nbconvert_exporter": "python",
   "pygments_lexer": "ipython3",
   "version": "3.6.5"
  }
 },
 "nbformat": 4,
 "nbformat_minor": 2
}
